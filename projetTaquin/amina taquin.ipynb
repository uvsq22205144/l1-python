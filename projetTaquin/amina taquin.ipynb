{
 "cells": [
  {
   "cell_type": "code",
   "execution_count": 30,
   "metadata": {},
   "outputs": [],
   "source": [
    "from tkinter import *\n",
    "\n",
    "board=[[6, 7, 4, 8],\n",
    "       [5, 15, 13, 2],\n",
    "       [12, 14, 9, 1],\n",
    "       [3, 11, 10, None]]\n",
    "\n",
    "FONT=('Ubuntu', 27, 'bold')\n",
    "master=Tk()\n",
    "cnv=Canvas(master, width=400, height=400)\n",
    "cnv.pack()\n",
    "\n",
    "for i in range(4):\n",
    "    for j in range(4):\n",
    "        x, y=100*j, 100*i\n",
    "        A, B, C=(x, y), (x+100, y+100), (x+50, y+50)\n",
    "        cnv.create_rectangle(A, B, fill=\"royal blue\")\n",
    "        cnv.create_text(C, text=board[i][j], fill=\"yellow\",\n",
    "                            font=FONT)\n",
    "master.mainloop()"
   ]
  }
 ],
 "metadata": {
  "kernelspec": {
   "display_name": "Python 3.9.12 ('base')",
   "language": "python",
   "name": "python3"
  },
  "language_info": {
   "codemirror_mode": {
    "name": "ipython",
    "version": 3
   },
   "file_extension": ".py",
   "mimetype": "text/x-python",
   "name": "python",
   "nbconvert_exporter": "python",
   "pygments_lexer": "ipython3",
   "version": "3.9.12"
  },
  "orig_nbformat": 4,
  "vscode": {
   "interpreter": {
    "hash": "4110e464382b6f5985506c70354757ab58c6dd015aa376e4fcb36fdd9a45bdd0"
   }
  }
 },
 "nbformat": 4,
 "nbformat_minor": 2
}
